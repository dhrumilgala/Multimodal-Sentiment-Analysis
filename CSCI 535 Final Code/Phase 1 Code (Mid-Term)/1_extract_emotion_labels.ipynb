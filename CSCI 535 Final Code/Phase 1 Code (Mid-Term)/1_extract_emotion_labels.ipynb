{
  "cells": [
    {
      "cell_type": "markdown",
      "metadata": {
        "id": "Shgd-YROlPSL"
      },
      "source": [
        "# Extract labels from the evaluation files\n"
      ]
    },
    {
      "cell_type": "code",
      "source": [
        "from google.colab import drive\n",
        "drive.mount('/content/drive')"
      ],
      "metadata": {
        "colab": {
          "base_uri": "https://localhost:8080/"
        },
        "id": "n7I_cPmQlU_V",
        "outputId": "eb3cbc58-4003-4b80-bc40-77bc9ea564d8"
      },
      "execution_count": null,
      "outputs": [
        {
          "output_type": "stream",
          "name": "stdout",
          "text": [
            "Mounted at /content/drive\n"
          ]
        }
      ]
    },
    {
      "cell_type": "code",
      "execution_count": null,
      "metadata": {
        "id": "-1aVETr-lPSN"
      },
      "outputs": [],
      "source": [
        "import re\n",
        "\n",
        "# first test with one file\n",
        "file_path = '/content/drive/MyDrive/Temp/IEMOCAP_full_release/Session1/dialog/EmoEvaluation/Ses01F_impro01.txt'"
      ]
    },
    {
      "cell_type": "code",
      "execution_count": null,
      "metadata": {
        "id": "yZLBmIwNlPSO"
      },
      "outputs": [],
      "source": [
        "useful_regex = re.compile(r'\\[.+\\]\\n', re.IGNORECASE)"
      ]
    },
    {
      "cell_type": "code",
      "execution_count": null,
      "metadata": {
        "id": "ijvEGak_lPSP"
      },
      "outputs": [],
      "source": [
        "with open(file_path) as f:\n",
        "    file_content = f.read()\n",
        "    \n",
        "info_lines = re.findall(useful_regex, file_content)"
      ]
    },
    {
      "cell_type": "code",
      "execution_count": null,
      "metadata": {
        "colab": {
          "base_uri": "https://localhost:8080/"
        },
        "id": "H-JzvhCTlPSP",
        "outputId": "16023d41-4a9d-4841-cef0-eb0945e71e44"
      },
      "outputs": [
        {
          "output_type": "stream",
          "name": "stdout",
          "text": [
            "['[6.2901 - 8.2357]', 'Ses01F_impro01_F000', 'neu', '[2.5000, 2.5000, 2.5000]']\n",
            "['[10.0100 - 11.3925]', 'Ses01F_impro01_F001', 'neu', '[2.5000, 2.5000, 2.5000]']\n",
            "['[14.8872 - 18.0175]', 'Ses01F_impro01_F002', 'neu', '[2.5000, 2.5000, 2.5000]']\n",
            "['[19.2900 - 20.7875]', 'Ses01F_impro01_F003', 'xxx', '[2.5000, 3.0000, 3.0000]']\n",
            "['[21.3257 - 24.7400]', 'Ses01F_impro01_F004', 'xxx', '[2.5000, 3.0000, 2.5000]']\n",
            "['[27.4600 - 31.4900]', 'Ses01F_impro01_F005', 'neu', '[2.5000, 3.5000, 2.0000]']\n",
            "['[38.9650 - 43.5900]', 'Ses01F_impro01_F006', 'fru', '[2.0000, 3.5000, 3.5000]']\n",
            "['[46.5800 - 52.1900]', 'Ses01F_impro01_F007', 'fru', '[2.5000, 3.5000, 3.5000]']\n",
            "['[56.1600 - 58.8225]', 'Ses01F_impro01_F008', 'fru', '[2.0000, 3.5000, 3.5000]']\n"
          ]
        }
      ],
      "source": [
        "for l in info_lines[1:10]:\n",
        "    print(l.strip().split('\\t'))"
      ]
    },
    {
      "cell_type": "markdown",
      "metadata": {
        "id": "RImnUJm_lPSP"
      },
      "source": [
        "## Compile all the information in a single file"
      ]
    },
    {
      "cell_type": "code",
      "execution_count": null,
      "metadata": {
        "id": "9xCORPlXlPSQ"
      },
      "outputs": [],
      "source": [
        "import re\n",
        "import os\n",
        "\n",
        "\n",
        "info_line = re.compile(r'\\[.+\\]\\n', re.IGNORECASE)\n",
        "\n",
        "start_times, end_times, wav_file_names, emotions, vals, acts, doms = [], [], [], [], [], [], []\n",
        "\n",
        "for sess in range(1, 6):\n",
        "    emo_evaluation_dir = '/content/drive/MyDrive/Temp/IEMOCAP_full_release/Session{}/dialog/EmoEvaluation/'.format(sess)\n",
        "    evaluation_files = [l for l in os.listdir(emo_evaluation_dir) if 'Ses' in l]\n",
        "    for file in evaluation_files:\n",
        "        with open(emo_evaluation_dir + file, encoding='ISO-8859-1') as f:\n",
        "            content = f.read()\n",
        "        info_lines = re.findall(info_line, content)\n",
        "        for line in info_lines[1:]:  # the first line is a header\n",
        "            start_end_time, wav_file_name, emotion, val_act_dom = line.strip().split('\\t')\n",
        "            start_time, end_time = start_end_time[1:-1].split('-')\n",
        "            val, act, dom = val_act_dom[1:-1].split(',')\n",
        "            val, act, dom = float(val), float(act), float(dom)\n",
        "            start_time, end_time = float(start_time), float(end_time)\n",
        "            start_times.append(start_time)\n",
        "            end_times.append(end_time)\n",
        "            wav_file_names.append(wav_file_name)\n",
        "            emotions.append(emotion)\n",
        "            vals.append(val)\n",
        "            acts.append(act)\n",
        "            doms.append(dom)"
      ]
    },
    {
      "cell_type": "code",
      "execution_count": null,
      "metadata": {
        "colab": {
          "base_uri": "https://localhost:8080/",
          "height": 206
        },
        "id": "EzsCis3WlPSQ",
        "outputId": "0bd3693c-3650-496f-ab6a-836c8f49949c"
      },
      "outputs": [
        {
          "output_type": "execute_result",
          "data": {
            "text/plain": [
              "       start_time  end_time             wav_file emotion  val  act  dom\n",
              "10034     301.190  307.9200  Ses05F_impro02_M037     xxx  2.0  3.0  2.5\n",
              "10035     309.810  312.1800  Ses05F_impro02_M038     xxx  1.5  3.0  1.5\n",
              "10036     315.410  319.4100  Ses05F_impro02_M039     sur  1.5  4.0  1.0\n",
              "10037     320.350  328.8200  Ses05F_impro02_M040     xxx  1.5  2.0  2.5\n",
              "10038     332.823  335.1399  Ses05F_impro02_M041     sad  2.0  2.5  2.0"
            ],
            "text/html": [
              "\n",
              "  <div id=\"df-bc366865-5af4-4921-bef4-6b3c0385c777\">\n",
              "    <div class=\"colab-df-container\">\n",
              "      <div>\n",
              "<style scoped>\n",
              "    .dataframe tbody tr th:only-of-type {\n",
              "        vertical-align: middle;\n",
              "    }\n",
              "\n",
              "    .dataframe tbody tr th {\n",
              "        vertical-align: top;\n",
              "    }\n",
              "\n",
              "    .dataframe thead th {\n",
              "        text-align: right;\n",
              "    }\n",
              "</style>\n",
              "<table border=\"1\" class=\"dataframe\">\n",
              "  <thead>\n",
              "    <tr style=\"text-align: right;\">\n",
              "      <th></th>\n",
              "      <th>start_time</th>\n",
              "      <th>end_time</th>\n",
              "      <th>wav_file</th>\n",
              "      <th>emotion</th>\n",
              "      <th>val</th>\n",
              "      <th>act</th>\n",
              "      <th>dom</th>\n",
              "    </tr>\n",
              "  </thead>\n",
              "  <tbody>\n",
              "    <tr>\n",
              "      <th>10034</th>\n",
              "      <td>301.190</td>\n",
              "      <td>307.9200</td>\n",
              "      <td>Ses05F_impro02_M037</td>\n",
              "      <td>xxx</td>\n",
              "      <td>2.0</td>\n",
              "      <td>3.0</td>\n",
              "      <td>2.5</td>\n",
              "    </tr>\n",
              "    <tr>\n",
              "      <th>10035</th>\n",
              "      <td>309.810</td>\n",
              "      <td>312.1800</td>\n",
              "      <td>Ses05F_impro02_M038</td>\n",
              "      <td>xxx</td>\n",
              "      <td>1.5</td>\n",
              "      <td>3.0</td>\n",
              "      <td>1.5</td>\n",
              "    </tr>\n",
              "    <tr>\n",
              "      <th>10036</th>\n",
              "      <td>315.410</td>\n",
              "      <td>319.4100</td>\n",
              "      <td>Ses05F_impro02_M039</td>\n",
              "      <td>sur</td>\n",
              "      <td>1.5</td>\n",
              "      <td>4.0</td>\n",
              "      <td>1.0</td>\n",
              "    </tr>\n",
              "    <tr>\n",
              "      <th>10037</th>\n",
              "      <td>320.350</td>\n",
              "      <td>328.8200</td>\n",
              "      <td>Ses05F_impro02_M040</td>\n",
              "      <td>xxx</td>\n",
              "      <td>1.5</td>\n",
              "      <td>2.0</td>\n",
              "      <td>2.5</td>\n",
              "    </tr>\n",
              "    <tr>\n",
              "      <th>10038</th>\n",
              "      <td>332.823</td>\n",
              "      <td>335.1399</td>\n",
              "      <td>Ses05F_impro02_M041</td>\n",
              "      <td>sad</td>\n",
              "      <td>2.0</td>\n",
              "      <td>2.5</td>\n",
              "      <td>2.0</td>\n",
              "    </tr>\n",
              "  </tbody>\n",
              "</table>\n",
              "</div>\n",
              "      <button class=\"colab-df-convert\" onclick=\"convertToInteractive('df-bc366865-5af4-4921-bef4-6b3c0385c777')\"\n",
              "              title=\"Convert this dataframe to an interactive table.\"\n",
              "              style=\"display:none;\">\n",
              "        \n",
              "  <svg xmlns=\"http://www.w3.org/2000/svg\" height=\"24px\"viewBox=\"0 0 24 24\"\n",
              "       width=\"24px\">\n",
              "    <path d=\"M0 0h24v24H0V0z\" fill=\"none\"/>\n",
              "    <path d=\"M18.56 5.44l.94 2.06.94-2.06 2.06-.94-2.06-.94-.94-2.06-.94 2.06-2.06.94zm-11 1L8.5 8.5l.94-2.06 2.06-.94-2.06-.94L8.5 2.5l-.94 2.06-2.06.94zm10 10l.94 2.06.94-2.06 2.06-.94-2.06-.94-.94-2.06-.94 2.06-2.06.94z\"/><path d=\"M17.41 7.96l-1.37-1.37c-.4-.4-.92-.59-1.43-.59-.52 0-1.04.2-1.43.59L10.3 9.45l-7.72 7.72c-.78.78-.78 2.05 0 2.83L4 21.41c.39.39.9.59 1.41.59.51 0 1.02-.2 1.41-.59l7.78-7.78 2.81-2.81c.8-.78.8-2.07 0-2.86zM5.41 20L4 18.59l7.72-7.72 1.47 1.35L5.41 20z\"/>\n",
              "  </svg>\n",
              "      </button>\n",
              "      \n",
              "  <style>\n",
              "    .colab-df-container {\n",
              "      display:flex;\n",
              "      flex-wrap:wrap;\n",
              "      gap: 12px;\n",
              "    }\n",
              "\n",
              "    .colab-df-convert {\n",
              "      background-color: #E8F0FE;\n",
              "      border: none;\n",
              "      border-radius: 50%;\n",
              "      cursor: pointer;\n",
              "      display: none;\n",
              "      fill: #1967D2;\n",
              "      height: 32px;\n",
              "      padding: 0 0 0 0;\n",
              "      width: 32px;\n",
              "    }\n",
              "\n",
              "    .colab-df-convert:hover {\n",
              "      background-color: #E2EBFA;\n",
              "      box-shadow: 0px 1px 2px rgba(60, 64, 67, 0.3), 0px 1px 3px 1px rgba(60, 64, 67, 0.15);\n",
              "      fill: #174EA6;\n",
              "    }\n",
              "\n",
              "    [theme=dark] .colab-df-convert {\n",
              "      background-color: #3B4455;\n",
              "      fill: #D2E3FC;\n",
              "    }\n",
              "\n",
              "    [theme=dark] .colab-df-convert:hover {\n",
              "      background-color: #434B5C;\n",
              "      box-shadow: 0px 1px 3px 1px rgba(0, 0, 0, 0.15);\n",
              "      filter: drop-shadow(0px 1px 2px rgba(0, 0, 0, 0.3));\n",
              "      fill: #FFFFFF;\n",
              "    }\n",
              "  </style>\n",
              "\n",
              "      <script>\n",
              "        const buttonEl =\n",
              "          document.querySelector('#df-bc366865-5af4-4921-bef4-6b3c0385c777 button.colab-df-convert');\n",
              "        buttonEl.style.display =\n",
              "          google.colab.kernel.accessAllowed ? 'block' : 'none';\n",
              "\n",
              "        async function convertToInteractive(key) {\n",
              "          const element = document.querySelector('#df-bc366865-5af4-4921-bef4-6b3c0385c777');\n",
              "          const dataTable =\n",
              "            await google.colab.kernel.invokeFunction('convertToInteractive',\n",
              "                                                     [key], {});\n",
              "          if (!dataTable) return;\n",
              "\n",
              "          const docLinkHtml = 'Like what you see? Visit the ' +\n",
              "            '<a target=\"_blank\" href=https://colab.research.google.com/notebooks/data_table.ipynb>data table notebook</a>'\n",
              "            + ' to learn more about interactive tables.';\n",
              "          element.innerHTML = '';\n",
              "          dataTable['output_type'] = 'display_data';\n",
              "          await google.colab.output.renderOutput(dataTable, element);\n",
              "          const docLink = document.createElement('div');\n",
              "          docLink.innerHTML = docLinkHtml;\n",
              "          element.appendChild(docLink);\n",
              "        }\n",
              "      </script>\n",
              "    </div>\n",
              "  </div>\n",
              "  "
            ]
          },
          "metadata": {},
          "execution_count": 12
        }
      ],
      "source": [
        "import pandas as pd\n",
        "\n",
        "df_iemocap = pd.DataFrame(columns=['start_time', 'end_time', 'wav_file', 'emotion', 'val', 'act', 'dom'])\n",
        "\n",
        "df_iemocap['start_time'] = start_times\n",
        "df_iemocap['end_time'] = end_times\n",
        "df_iemocap['wav_file'] = wav_file_names\n",
        "df_iemocap['emotion'] = emotions\n",
        "df_iemocap['val'] = vals\n",
        "df_iemocap['act'] = acts\n",
        "df_iemocap['dom'] = doms\n",
        "\n",
        "df_iemocap.tail()"
      ]
    },
    {
      "cell_type": "code",
      "execution_count": null,
      "metadata": {
        "id": "fKFBwserlPSQ"
      },
      "outputs": [],
      "source": [
        "df_iemocap.to_csv('/content/drive/MyDrive/Temp/pre-processed/df_iemocap.csv', index=False)"
      ]
    },
    {
      "cell_type": "code",
      "execution_count": null,
      "metadata": {
        "id": "AwEJvlC0lPSR"
      },
      "outputs": [],
      "source": []
    }
  ],
  "metadata": {
    "kernelspec": {
      "display_name": "Python 3 (ipykernel)",
      "language": "python",
      "name": "python3"
    },
    "language_info": {
      "codemirror_mode": {
        "name": "ipython",
        "version": 3
      },
      "file_extension": ".py",
      "mimetype": "text/x-python",
      "name": "python",
      "nbconvert_exporter": "python",
      "pygments_lexer": "ipython3",
      "version": "3.8.16"
    },
    "colab": {
      "provenance": []
    }
  },
  "nbformat": 4,
  "nbformat_minor": 0
}